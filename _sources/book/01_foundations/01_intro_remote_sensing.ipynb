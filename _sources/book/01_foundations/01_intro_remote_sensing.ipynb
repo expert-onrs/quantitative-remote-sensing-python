{
 "cells": [
  {
   "attachments": {},
   "cell_type": "markdown",
   "id": "2c1b55a3-4de0-4ca3-aad6-720d7709734b",
   "metadata": {},
   "source": [
    "# Remote sensing fundamentals\n",
    "\n",
    "## What is Remote Sensing?\n",
    "\n",
    "Remote sensing is an approach to obtain information about an object or area from a distance by detecting and measuring electromagnetic radiation, using ground-based, airborne, or spaceborne platforms.\n",
    "\n",
    "![Remote sensing concept](images/Fig1.png)\n",
    "#### Figure 1. Electromagnetic spectrum.\n",
    "The electromagnetic spectrum showing the range of wavelengths from gamma rays to radio waves. (resource: https://appliedsciences.nasa.gov/sites/default/files/2022-11/Fundamentals_of_RS_Edited_SC.pdf)\n",
    "\n",
    "## Remote sensing of vegetation\n",
    "### Leaf level\n",
    "![leaf structure](images/Fig2.png)\n",
    "\n",
    "#### Figure 2. Leaf structure and interaction with light.\n",
    "\n",
    "### Canopy level\n",
    "![canopy](images/fig3-1.png)\n",
    "#### Figure 3. Canopy struture (leaf angular distribution) and light transmitance.\n",
    "\n",
    "![leaf inclination](images/Fig3-2.png)\n",
    "#### Figure 4. Incident angle on canopy leaves can be calculated from sun position (solar zenith angel and azimuth angle) and leaf inclination angles.\n",
    "\n",
    "### Canopy reflectance is is entangle with soil background\n",
    "Two models to simplify the canopy reflectance when there is a soil background.\n",
    "![Kulbelka-Munk](images/Fig4-1.png)\n",
    "![Hampke](images/Fig4-2.png)\n",
    "\n",
    "Both models can lead to the relationship between LIA and Top-of-Canopy reflectance (R)\n",
    "\n",
    "$LAI~=-\\frac 1 K log \\frac {R{\\infty}-R}{R_{\\infty}-R_{soil}}$\n",
    "\n",
    "which finaly leads to the formulation of PPI, using DVI instead of a single band reflectance."
   ]
  },
  {
   "cell_type": "code",
   "execution_count": null,
   "id": "e076fb97-a516-4e10-aa79-213c2a8edc0c",
   "metadata": {},
   "outputs": [],
   "source": []
  }
 ],
 "metadata": {
  "kernelspec": {
   "display_name": "Python (geo)",
   "language": "python",
   "name": "geo"
  },
  "language_info": {
   "codemirror_mode": {
    "name": "ipython",
    "version": 3
   },
   "file_extension": ".py",
   "mimetype": "text/x-python",
   "name": "python",
   "nbconvert_exporter": "python",
   "pygments_lexer": "ipython3",
   "version": "3.11.13"
  }
 },
 "nbformat": 4,
 "nbformat_minor": 5
}
